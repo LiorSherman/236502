{
 "cells": [
  {
   "cell_type": "code",
   "execution_count": 1,
   "id": "5df769ed-4f5e-4106-9cba-2c26a1931108",
   "metadata": {},
   "outputs": [
    {
     "name": "stdout",
     "output_type": "stream",
     "text": [
      "cuda:0\n"
     ]
    }
   ],
   "source": [
    "import torch\n",
    "from torch import nn\n",
    "from gan.settings import *\n",
    "device = torch.device('cuda:0' if torch.cuda.is_available() else 'cpu')\n",
    "print(device)"
   ]
  },
  {
   "cell_type": "code",
   "execution_count": 2,
   "id": "ed02df30-d47e-49de-8ecf-5d8abc95405f",
   "metadata": {},
   "outputs": [
    {
     "name": "stdout",
     "output_type": "stream",
     "text": [
      "Dataset shape : (300, 4, 4, 16, 84)\n"
     ]
    }
   ],
   "source": [
    "from gan.dataset import Dataset\n",
    "from torch.utils.data import DataLoader\n",
    "dataset = Dataset(file='./gan/dataset_4_bar_strict_large.npy', max_num_files=300)\n",
    "dataloader = DataLoader(dataset, batch_size=64, shuffle=True, drop_last=True)"
   ]
  },
  {
   "cell_type": "code",
   "execution_count": 3,
   "id": "19d787ae-8272-4764-bef5-8e54bc86d8a4",
   "metadata": {},
   "outputs": [],
   "source": [
    "from gan.gan import MuseGenerator, MuseCritic\n",
    "from gan.utils import initialize_weights\n",
    "\n",
    "generator = MuseGenerator(z_dim=32, hid_channels=1024, hid_features=1024, out_channels=1).to(device)\n",
    "g_optimizer = torch.optim.Adam(generator.parameters(), lr=0.001, betas=(0.5, 0.9))\n",
    "critic = MuseCritic(hid_channels=128,\n",
    "                    hid_features=1024,\n",
    "                    out_features=1).to(device)\n",
    "c_optimizer = torch.optim.Adam(critic.parameters(), lr=0.001, betas=(0.5, 0.9))\n",
    "\n",
    "generator = generator.apply(initialize_weights)\n",
    "critic = critic.apply(initialize_weights)"
   ]
  },
  {
   "cell_type": "code",
   "execution_count": null,
   "id": "a86df206-1072-408f-93c6-2401c8cf3d6c",
   "metadata": {},
   "outputs": [
    {
     "data": {
      "application/vnd.jupyter.widget-view+json": {
       "model_id": "3c36df2971c24918a5b63284a2c2a8ef",
       "version_major": 2,
       "version_minor": 0
      },
      "text/plain": [
       "  0%|          | 0/500 [00:00<?, ?it/s]"
      ]
     },
     "metadata": {},
     "output_type": "display_data"
    },
    {
     "name": "stdout",
     "output_type": "stream",
     "text": [
      "Epoch 0/500 | Generator loss: 76.533 | Critic loss: -994.340 (fake: -39.247, real: -955.093, penalty: 460.273)\n",
      "Epoch 10/500 | Generator loss: 2653.038 | Critic loss: -294.307 (fake: -2266.706, real: 1972.399, penalty: 114.135)\n"
     ]
    }
   ],
   "source": [
    "from gan.train import Trainer\n",
    "trainer = Trainer(generator, critic, g_optimizer, c_optimizer)\n",
    "num_epochs = 500\n",
    "trainer.train(dataloader, epochs=num_epochs)\n",
    "losses = trainer.data.copy()"
   ]
  },
  {
   "cell_type": "code",
   "execution_count": null,
   "id": "7d85e1f6-bb13-48c7-aca5-f90622ae85c0",
   "metadata": {},
   "outputs": [],
   "source": [
    "import pandas as pd\n",
    "import os\n",
    "generator = generator.eval().cpu()\n",
    "#critic = critic.eval().cpu()\n",
    "out_path = './gan/pre_trained_models/modelA'\n",
    "torch.save(generator, os.path.join(out_path, f'generator_e{num_epochs}_s{len(dataset)}.pt'))\n",
    "torch.save(critic, os.path.join(out_path, f'critic_e{num_epochs}_s{len(dataset)}.pt'))\n",
    "losses = trainer.data.copy()\n",
    "df = pd.DataFrame.from_dict(losses)\n",
    "df.to_csv('./gan/pre_trained_model/modelA/results.csv', index=False)"
   ]
  },
  {
   "cell_type": "code",
   "execution_count": null,
   "id": "3f8872cd-c8ef-4096-a64f-16ad5873f693",
   "metadata": {},
   "outputs": [],
   "source": [
    "import pandas as pd\n",
    "from gan.utils import plot_losses\n",
    "df = pd.read_csv('./gan/pre_trained_model/modelA/results.csv')\n",
    "losses = pd.DataFrame.from_dict(df)\n",
    "plot_losses(losses)"
   ]
  },
  {
   "cell_type": "code",
   "execution_count": null,
   "id": "b1188937-48ae-40a2-93c3-fafe1fd3cae3",
   "metadata": {},
   "outputs": [],
   "source": [
    "from gan.utils import parseToMidi\n",
    "\n",
    "num_samples = 1\n",
    "nump_tracks = 4\n",
    "z_dim = 32\n",
    "\n",
    "generator = torch.load('./gan/pre_trained_model/modelA/results.csv')\n",
    "\n",
    "chords = torch.randn(num_samples, z_dim)\n",
    "style = torch.randn(num_samples, z_dim)\n",
    "melody = torch.randn(num_samples, nump_tracks, z_dim)\n",
    "groove = torch.randn(num_samples, nump_tracks, z_dim)\n",
    "\n",
    "sample = generator(chords, style, melody, groove).detach()\n",
    "\n",
    "midi_out_path = './gan/my_trained_models/modelA'\n",
    "parseToMidi(sample, midi_out_path, name=\"My Track\")"
   ]
  },
  {
   "cell_type": "code",
   "execution_count": null,
   "id": "072bf1a9-b1a1-4bb1-9263-2046a488a137",
   "metadata": {},
   "outputs": [],
   "source": []
  }
 ],
 "metadata": {
  "kernelspec": {
   "display_name": "Python 3 (ipykernel)",
   "language": "python",
   "name": "python3"
  },
  "language_info": {
   "codemirror_mode": {
    "name": "ipython",
    "version": 3
   },
   "file_extension": ".py",
   "mimetype": "text/x-python",
   "name": "python",
   "nbconvert_exporter": "python",
   "pygments_lexer": "ipython3",
   "version": "3.9.7"
  }
 },
 "nbformat": 4,
 "nbformat_minor": 5
}
